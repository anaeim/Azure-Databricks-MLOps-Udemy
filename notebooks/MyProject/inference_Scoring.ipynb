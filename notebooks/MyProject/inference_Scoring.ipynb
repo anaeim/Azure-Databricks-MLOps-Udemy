{
 "cells": [
  {
   "cell_type": "code",
   "execution_count": null,
   "id": "b1180bd9",
   "metadata": {},
   "outputs": [],
   "source": [
    "# creates an interactive dropdown widget at the top of the notebook. Here’s a breakdown of what it does:\n",
    "dbutils.widgets.dropdown(\"Model Stage\", \"None\", [\"Production\", \"Staging\",\"None\"])"
   ]
  },
  {
   "cell_type": "code",
   "execution_count": null,
   "id": "26ccde14",
   "metadata": {},
   "outputs": [],
   "source": [
    "import mlflow"
   ]
  },
  {
   "cell_type": "code",
   "execution_count": null,
   "id": "793b7d59",
   "metadata": {},
   "outputs": [],
   "source": [
    "registry_uri = f'databricks://modelregistery:modelregistery'\n",
    "mlflow.set_registry_uri(registry_uri)"
   ]
  },
  {
   "cell_type": "code",
   "execution_count": null,
   "id": "ca5d6cfb",
   "metadata": {},
   "outputs": [],
   "source": [
    "model_name = \"power-forecasting-model\"\n",
    "run_id='c9830cb0281842eb85cbb0dd9c14d896'\n",
    "# The default path where the MLflow autologging function stores the model\n",
    "artifact_path = \"model\"\n",
    "model_uri = \"runs:/{run_id}/{artifact_path}\".format(run_id=run_id, artifact_path=artifact_path)"
   ]
  },
  {
   "cell_type": "code",
   "execution_count": null,
   "id": "2d4fbe36",
   "metadata": {},
   "outputs": [],
   "source": [
    "model_production_uri = \"models:/{model_name}/{model_stage}\".format(model_name=model_name,model_stage=dbutils.widgets.get(\"Model Stage\"))"
   ]
  },
  {
   "cell_type": "code",
   "execution_count": null,
   "id": "dbc4fce2",
   "metadata": {
    "lines_to_next_cell": 1
   },
   "outputs": [],
   "source": [
    "def plot(model_name, model_stage, model_version, power_predictions, past_power_output):\n",
    "  import pandas as pd\n",
    "  import matplotlib.dates as mdates\n",
    "  from matplotlib import pyplot as plt\n",
    "  index = power_predictions.index\n",
    "  fig = plt.figure(figsize=(11, 7))\n",
    "  ax = fig.add_subplot(111)\n",
    "  ax.set_xlabel(\"Date\", size=20, labelpad=20)\n",
    "  ax.set_ylabel(\"Power\\noutput\\n(MW)\", size=20, labelpad=60, rotation=0)\n",
    "  ax.tick_params(axis='both', which='major', labelsize=17)\n",
    "  ax.xaxis.set_major_formatter(mdates.DateFormatter('%m/%d'))\n",
    "  ax.plot(index[:len(past_power_output)], past_power_output, label=\"True\", color=\"red\", alpha=0.5, linewidth=4)\n",
    "  ax.plot(index, power_predictions.squeeze(), \"--\", label=\"Predicted by '%s'\\nin stage '%s' (Version %d)\" % (model_name, model_stage, model_version), color=\"blue\", linewidth=3)\n",
    "  ax.set_ylim(ymin=0, ymax=max(3500, int(max(power_predictions.values) * 1.3)))\n",
    "  ax.legend(fontsize=14)\n",
    "  plt.title(\"Wind farm power output and projections\", size=24, pad=20)\n",
    "  plt.tight_layout()\n",
    "  display(plt.show())"
   ]
  },
  {
   "cell_type": "code",
   "execution_count": null,
   "id": "f427a689",
   "metadata": {
    "lines_to_next_cell": 1
   },
   "outputs": [],
   "source": [
    "def forecast_power(model_name, model_stage):\n",
    "  from mlflow.tracking.client import MlflowClient\n",
    "  client = MlflowClient()\n",
    "  model_version = client.get_latest_versions(model_name, stages=[model_stage])[0].version\n",
    "  model_uri = \"models:/{model_name}/{model_stage}\".format(model_name=model_name, model_stage=model_stage)\n",
    "  model = mlflow.pyfunc.load_model(model_uri)\n",
    "  weather_data, past_power_output = get_weather_and_forecast()\n",
    "  power_predictions = pd.DataFrame(model.predict(weather_data))\n",
    "  power_predictions.index = pd.to_datetime(weather_data.index)\n",
    "  print(power_predictions)\n",
    "  plot(model_name, model_stage, int(model_version), power_predictions, past_power_output)"
   ]
  },
  {
   "attachments": {},
   "cell_type": "markdown",
   "id": "33e335a4",
   "metadata": {},
   "source": [
    "```python\n",
    "from mlflow.tracking.client import MlflowClient client = MlflowClient()\n",
    "```\n",
    "\n",
    "This imports and creates a client to interact with MLflow’s tracking and model registry APIs.\n",
    "\n",
    "---\n",
    "\n",
    "```python\n",
    "model = mlflow.pyfunc.load_model(model_uri)\n",
    "```\n",
    "Loads the model as a PyFunc model, which is MLflow’s standard format for making predictions.\n",
    "\n",
    "\n",
    "### Q. which version it loads?\n",
    "when you use model = mlflow.pyfunc.load_model(model_uri), you do not tell the version. which version it loads?\n",
    "\n",
    "- you're totally right to notice that mlflow.pyfunc.load_model(model_uri) uses just the model name and stage, not an explicit version number.\n",
    "- MLflow will automatically load the latest version of the model in the specified stage.\n",
    "\n",
    "🔐 If you wanted to load a specific version (7 here):\n",
    "```python\n",
    "model_uri = \"models:/power_forecast_model/7\"\n",
    "model = mlflow.pyfunc.load_model(model_uri)\n",
    "```\n",
    "---\n",
    "\n",
    "\n"
   ]
  },
  {
   "cell_type": "code",
   "execution_count": null,
   "id": "4af4a686",
   "metadata": {},
   "outputs": [],
   "source": [
    "import pandas as pd"
   ]
  },
  {
   "cell_type": "code",
   "execution_count": null,
   "id": "a8ab97cd",
   "metadata": {
    "lines_to_next_cell": 1
   },
   "outputs": [],
   "source": [
    "wind_farm_data = pd.read_csv(\"https://github.com/dbczumar/model-registry-demo-notebook/raw/master/dataset/windfarm_data.csv\", index_col=0)\n",
    "def get_weather_and_forecast():\n",
    "  format_date = lambda pd_date : pd_date.date().strftime(\"%Y-%m-%d\")\n",
    "  today = pd.Timestamp('today').normalize()\n",
    "  week_ago = today - pd.Timedelta(days=5)\n",
    "  week_later = today + pd.Timedelta(days=5)\n",
    "  \n",
    "  past_power_output = pd.DataFrame(wind_farm_data)[format_date(week_ago):format_date(today)]\n",
    "  weather_and_forecast = pd.DataFrame(wind_farm_data)[format_date(week_ago):format_date(week_later)]\n",
    "  if len(weather_and_forecast) < 10:\n",
    "    past_power_output = pd.DataFrame(wind_farm_data).iloc[-10:-5]\n",
    "    weather_and_forecast = pd.DataFrame(wind_farm_data).iloc[-10:]\n",
    "\n",
    "  return weather_and_forecast.drop(columns=\"power\"), past_power_output[\"power\"]"
   ]
  },
  {
   "cell_type": "code",
   "execution_count": null,
   "id": "a715745e",
   "metadata": {},
   "outputs": [],
   "source": [
    "forecast_power(model_name, dbutils.widgets.get(\"Model Stage\"))"
   ]
  }
 ],
 "metadata": {
  "jupytext": {
   "cell_metadata_filter": "-all",
   "main_language": "python",
   "notebook_metadata_filter": "-all"
  },
  "kernelspec": {
   "display_name": "langchain",
   "language": "python",
   "name": "python3"
  },
  "language_info": {
   "codemirror_mode": {
    "name": "ipython",
    "version": 3
   },
   "file_extension": ".py",
   "mimetype": "text/x-python",
   "name": "python",
   "nbconvert_exporter": "python",
   "pygments_lexer": "ipython3",
   "version": "3.10.13"
  }
 },
 "nbformat": 4,
 "nbformat_minor": 5
}
